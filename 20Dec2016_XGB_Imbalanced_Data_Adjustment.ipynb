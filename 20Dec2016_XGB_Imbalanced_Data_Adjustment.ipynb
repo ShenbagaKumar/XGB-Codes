{
 "cells": [
  {
   "cell_type": "code",
   "execution_count": 1,
   "metadata": {
    "collapsed": true
   },
   "outputs": [],
   "source": [
    "import pandas as pd\n",
    "import numpy as np\n",
    "import xgboost as xgb\n",
    "from xgboost.sklearn import XGBRegressor\n",
    "\n",
    "import matplotlib as plt"
   ]
  },
  {
   "cell_type": "code",
   "execution_count": 2,
   "metadata": {
    "collapsed": true
   },
   "outputs": [],
   "source": [
    "import matplotlib.pyplot as plt"
   ]
  },
  {
   "cell_type": "code",
   "execution_count": 3,
   "metadata": {
    "collapsed": true
   },
   "outputs": [],
   "source": [
    "from xgboost.sklearn import XGBClassifier"
   ]
  },
  {
   "cell_type": "code",
   "execution_count": 4,
   "metadata": {
    "collapsed": true
   },
   "outputs": [],
   "source": [
    "directory = \"C:\\\\Users\\\\shenbaga.kumar\\\\Google Drive\\\\Hadoop Training\\\\Spark Modelling Projects\\\\\""
   ]
  },
  {
   "cell_type": "code",
   "execution_count": 5,
   "metadata": {
    "collapsed": false
   },
   "outputs": [],
   "source": [
    "abcde_rawdata = pd.read_csv(directory + 'abcde Raw Data.txt', delimiter=\"\\t\")"
   ]
  },
  {
   "cell_type": "code",
   "execution_count": 7,
   "metadata": {
    "collapsed": false
   },
   "outputs": [
    {
     "data": {
      "text/plain": [
       "(199733, 301)"
      ]
     },
     "execution_count": 7,
     "metadata": {},
     "output_type": "execute_result"
    }
   ],
   "source": [
    "abcde_rawdata.shape"
   ]
  },
  {
   "cell_type": "code",
   "execution_count": 8,
   "metadata": {
    "collapsed": false,
    "scrolled": true
   },
   "outputs": [
    {
     "data": {
      "text/plain": [
       "array(['Aug'], dtype=object)"
      ]
     },
     "execution_count": 8,
     "metadata": {},
     "output_type": "execute_result"
    }
   ],
   "source": [
    "abcde_rawdata.LoanMonth_Name.unique()"
   ]
  },
  {
   "cell_type": "code",
   "execution_count": 9,
   "metadata": {
    "collapsed": false
   },
   "outputs": [],
   "source": [
    "#drop the LoanMonth and the account number columns\n",
    "abcde_rawdata.drop('LoanMonth_Name',axis=1, inplace=True)"
   ]
  },
  {
   "cell_type": "code",
   "execution_count": 10,
   "metadata": {
    "collapsed": false
   },
   "outputs": [],
   "source": [
    "abcde_rawdata.drop('account_number',axis=1, inplace=True)"
   ]
  },
  {
   "cell_type": "code",
   "execution_count": 11,
   "metadata": {
    "collapsed": true
   },
   "outputs": [],
   "source": [
    "object_cols = []"
   ]
  },
  {
   "cell_type": "code",
   "execution_count": 12,
   "metadata": {
    "collapsed": true
   },
   "outputs": [],
   "source": [
    "#get the list of object columns and encode them:\n",
    "for x in abcde_rawdata.columns:\n",
    "    if abcde_rawdata[x].dtype == 'object':\n",
    "        object_cols.append(x)\n",
    "        abcde_rawdata[x] = pd.Categorical(abcde_rawdata[x]).codes"
   ]
  },
  {
   "cell_type": "code",
   "execution_count": 13,
   "metadata": {
    "collapsed": false
   },
   "outputs": [],
   "source": [
    "pd.set_option('display.max_columns', None)"
   ]
  },
  {
   "cell_type": "code",
   "execution_count": 15,
   "metadata": {
    "collapsed": false
   },
   "outputs": [
    {
     "data": {
      "text/plain": [
       "0    195861\n",
       "1      3872\n",
       "Name: adopted_Y_N, dtype: int64"
      ]
     },
     "execution_count": 15,
     "metadata": {},
     "output_type": "execute_result"
    }
   ],
   "source": [
    "abcde_rawdata.adopted_Y_N.value_counts()"
   ]
  },
  {
   "cell_type": "code",
   "execution_count": 16,
   "metadata": {
    "collapsed": false
   },
   "outputs": [],
   "source": [
    "features = list(abcde_rawdata.columns.values)"
   ]
  },
  {
   "cell_type": "code",
   "execution_count": 18,
   "metadata": {
    "collapsed": true
   },
   "outputs": [],
   "source": [
    "features.remove('adopted_Y_N')"
   ]
  },
  {
   "cell_type": "code",
   "execution_count": 19,
   "metadata": {
    "collapsed": true
   },
   "outputs": [],
   "source": [
    "#split data in to train and test\n",
    "train = abcde_rawdata.sample(frac=0.8, random_state=0)\n",
    "test = abcde_rawdata.drop(train.index)"
   ]
  },
  {
   "cell_type": "code",
   "execution_count": 20,
   "metadata": {
    "collapsed": true
   },
   "outputs": [],
   "source": [
    "y_train = train.adopted_Y_N"
   ]
  },
  {
   "cell_type": "code",
   "execution_count": null,
   "metadata": {
    "collapsed": true
   },
   "outputs": [],
   "source": [
    "#http://education.parrotprediction.teachable.com/courses/practical-xgboost-in-python/lectures/1173895\n",
    "#notes on handling imbalancced data:\n",
    "#min child weight = 1 is preferred for imbalanced data\n",
    "#weights while initializing DMatrix - how to sklearn?\n",
    "#use metrics like AUC"
   ]
  },
  {
   "cell_type": "code",
   "execution_count": 21,
   "metadata": {
    "collapsed": true
   },
   "outputs": [],
   "source": [
    "#approach 1: set min child weight to 1 and find the conf matrix"
   ]
  },
  {
   "cell_type": "code",
   "execution_count": 23,
   "metadata": {
    "collapsed": false
   },
   "outputs": [],
   "source": [
    "#parameters\n",
    "\n",
    "sklearn_classfr_params1 = {'learning_rate': 0.1,\n",
    "                          'subsample': 0.8,\n",
    "                          'n_estimators': 1000,\n",
    "                          'seed':0,\n",
    "                          'colsample_bytree': 0.8,\n",
    "                          'objective': 'binary:logistic',\n",
    "                          'max_depth': 3,\n",
    "                          'min_child_weight': 1\n",
    "                         }\n",
    "\n",
    "sklearn_xgb = XGBClassifier(**sklearn_classfr_params1)"
   ]
  },
  {
   "cell_type": "code",
   "execution_count": 24,
   "metadata": {
    "collapsed": false
   },
   "outputs": [
    {
     "data": {
      "text/plain": [
       "XGBClassifier(base_score=0.5, colsample_bylevel=1, colsample_bytree=0.8,\n",
       "       gamma=0, learning_rate=0.1, max_delta_step=0, max_depth=3,\n",
       "       min_child_weight=1, missing=None, n_estimators=1000, nthread=-1,\n",
       "       objective='binary:logistic', reg_alpha=0, reg_lambda=1,\n",
       "       scale_pos_weight=1, seed=0, silent=True, subsample=0.8)"
      ]
     },
     "execution_count": 24,
     "metadata": {},
     "output_type": "execute_result"
    }
   ],
   "source": [
    "sklearn_xgb.fit(train[features], y_train)"
   ]
  },
  {
   "cell_type": "code",
   "execution_count": 36,
   "metadata": {
    "collapsed": true
   },
   "outputs": [],
   "source": [
    "test_probabilities = sklearn_xgb.predict_proba(data=test[features])"
   ]
  },
  {
   "cell_type": "code",
   "execution_count": 37,
   "metadata": {
    "collapsed": false
   },
   "outputs": [
    {
     "data": {
      "text/plain": [
       "array([[ 0.99787593,  0.00212405],\n",
       "       [ 0.9873023 ,  0.01269771],\n",
       "       [ 0.99791175,  0.00208827],\n",
       "       ..., \n",
       "       [ 0.99656504,  0.00343495],\n",
       "       [ 0.96181393,  0.03818606],\n",
       "       [ 0.99758321,  0.00241678]], dtype=float32)"
      ]
     },
     "execution_count": 37,
     "metadata": {},
     "output_type": "execute_result"
    }
   ],
   "source": [
    "test_probabilities"
   ]
  },
  {
   "cell_type": "code",
   "execution_count": 45,
   "metadata": {
    "collapsed": true
   },
   "outputs": [
    {
     "name": "stdout",
     "output_type": "stream",
     "text": [
      "50\n",
      "88\n",
      "162\n",
      "190\n",
      "293\n",
      "391\n",
      "422\n",
      "531\n",
      "569\n",
      "609\n",
      "750\n",
      "770\n",
      "855\n",
      "859\n",
      "920\n",
      "954\n",
      "968\n",
      "998\n",
      "1129\n",
      "1282\n",
      "1372\n",
      "1413\n",
      "1444\n",
      "1543\n",
      "1643\n",
      "1659\n",
      "1776\n",
      "1844\n",
      "1854\n",
      "1900\n",
      "1912\n",
      "1922\n",
      "2154\n",
      "2325\n",
      "2341\n",
      "2353\n",
      "2429\n",
      "2599\n",
      "2616\n",
      "2693\n",
      "2857\n",
      "3104\n",
      "3117\n",
      "3180\n",
      "3872\n",
      "3986\n",
      "4111\n",
      "4118\n",
      "4322\n",
      "4439\n",
      "4610\n",
      "4633\n",
      "4709\n",
      "4834\n",
      "5053\n",
      "5164\n",
      "5208\n",
      "5234\n",
      "5236\n",
      "5454\n",
      "5478\n",
      "5605\n",
      "5799\n",
      "5817\n",
      "5901\n",
      "5999\n",
      "6245\n",
      "6272\n",
      "6339\n",
      "6546\n",
      "6573\n",
      "6644\n",
      "6736\n",
      "7175\n",
      "7499\n",
      "7637\n",
      "7646\n",
      "7680\n",
      "7771\n",
      "7834\n",
      "7940\n",
      "7962\n",
      "8010\n",
      "8021\n",
      "8209\n",
      "8416\n",
      "8545\n",
      "8602\n",
      "8701\n",
      "8736\n",
      "8782\n",
      "8795\n",
      "8873\n",
      "8959\n",
      "8995\n",
      "9041\n",
      "9074\n",
      "9155\n",
      "9301\n",
      "9443\n",
      "9510\n",
      "9530\n",
      "9739\n",
      "9910\n",
      "10159\n",
      "10187\n",
      "10190\n",
      "10362\n",
      "10391\n",
      "10477\n",
      "10600\n",
      "10668\n",
      "10704\n",
      "10749\n",
      "10798\n",
      "10799\n",
      "11173\n",
      "11416\n",
      "11623\n",
      "11847\n",
      "11880\n",
      "11990\n",
      "11994\n",
      "12014\n",
      "12235\n",
      "12273\n",
      "12301\n",
      "12520\n",
      "12626\n",
      "13065\n",
      "13120\n",
      "13182\n",
      "13255\n",
      "13391\n",
      "13464\n",
      "13525\n",
      "13576\n",
      "13668\n",
      "13675\n",
      "13743\n",
      "13972\n",
      "14036\n",
      "14102\n",
      "14196\n",
      "14254\n",
      "14528\n",
      "14751\n",
      "14786\n",
      "14825\n",
      "14867\n",
      "15001\n",
      "15063\n",
      "15152\n",
      "15242\n",
      "15359\n",
      "15360\n",
      "15386\n",
      "15472\n",
      "15486\n",
      "15503\n",
      "15535\n",
      "15657\n",
      "15674\n",
      "15746\n",
      "15867\n",
      "15889\n",
      "15972\n",
      "15993\n",
      "16019\n",
      "16028\n",
      "16047\n",
      "16210\n",
      "16585\n",
      "16586\n",
      "16671\n",
      "16682\n",
      "16707\n",
      "16809\n",
      "16812\n",
      "16889\n",
      "17028\n",
      "17055\n",
      "17271\n",
      "17437\n",
      "17457\n",
      "17530\n",
      "17706\n",
      "17801\n",
      "17829\n",
      "18100\n",
      "18102\n",
      "18154\n",
      "18228\n",
      "18570\n",
      "18839\n",
      "18975\n",
      "18989\n",
      "19123\n",
      "19168\n",
      "19516\n",
      "19603\n",
      "19724\n",
      "19755\n",
      "19794\n",
      "19814\n",
      "19892\n",
      "19906\n",
      "20114\n",
      "20201\n",
      "20232\n",
      "20579\n",
      "20690\n",
      "20707\n",
      "20726\n",
      "20844\n",
      "20846\n",
      "20850\n",
      "20983\n",
      "20992\n",
      "21065\n",
      "21364\n",
      "21516\n",
      "21578\n",
      "21613\n",
      "21616\n",
      "21736\n",
      "21882\n",
      "21899\n",
      "22024\n",
      "22031\n",
      "22032\n",
      "22169\n",
      "22389\n",
      "22637\n",
      "22648\n",
      "22719\n",
      "22819\n",
      "23222\n",
      "23361\n",
      "23493\n",
      "23507\n",
      "23533\n",
      "23604\n",
      "23701\n",
      "23887\n",
      "23949\n",
      "24022\n",
      "24085\n",
      "24151\n",
      "24220\n",
      "24267\n",
      "24329\n",
      "24409\n",
      "24562\n",
      "24652\n",
      "24661\n",
      "24762\n",
      "24783\n",
      "24793\n",
      "24926\n",
      "25090\n",
      "25192\n",
      "25279\n",
      "25465\n",
      "25587\n",
      "25643\n",
      "25704\n",
      "25731\n",
      "25782\n",
      "26129\n",
      "26135\n",
      "26344\n",
      "26454\n",
      "26692\n",
      "26751\n",
      "26911\n",
      "26941\n",
      "26980\n",
      "27077\n",
      "27085\n",
      "27310\n",
      "27334\n",
      "27337\n",
      "27392\n",
      "27395\n",
      "27502\n",
      "27952\n",
      "27963\n",
      "28152\n",
      "28257\n",
      "28558\n",
      "28647\n",
      "28721\n",
      "28763\n",
      "28764\n",
      "28854\n",
      "28989\n",
      "29021\n",
      "29110\n",
      "29192\n",
      "29383\n",
      "29510\n",
      "29683\n",
      "29793\n",
      "30075\n",
      "30403\n",
      "30457\n",
      "30758\n",
      "30922\n",
      "31233\n",
      "31389\n",
      "31427\n",
      "31532\n",
      "31651\n",
      "31819\n",
      "31846\n",
      "31902\n",
      "31910\n",
      "32023\n",
      "32135\n",
      "32388\n",
      "32650\n",
      "32670\n",
      "32742\n",
      "32856\n",
      "32969\n",
      "33171\n",
      "33177\n",
      "33230\n",
      "33270\n",
      "33290\n",
      "33458\n",
      "33548\n",
      "33869\n",
      "34249\n",
      "34310\n",
      "34331\n",
      "34595\n",
      "34639\n",
      "34709\n",
      "34759\n",
      "34773\n",
      "35023\n",
      "35094\n",
      "35236\n",
      "35540\n",
      "35587\n",
      "35645\n",
      "35774\n",
      "35941\n",
      "35982\n",
      "36011\n",
      "36079\n",
      "36115\n",
      "36341\n",
      "36473\n",
      "36504\n",
      "36549\n",
      "36861\n",
      "37072\n",
      "37080\n",
      "37167\n",
      "37279\n",
      "37436\n",
      "37535\n",
      "37765\n",
      "37847\n",
      "37904\n",
      "38225\n",
      "38237\n",
      "38370\n",
      "38399\n",
      "38407\n",
      "38416\n",
      "38498\n",
      "38626\n",
      "38955\n",
      "38982\n",
      "39051\n",
      "39087\n",
      "39217\n",
      "39224\n",
      "39354\n",
      "39417\n",
      "39487\n",
      "39636\n",
      "39738\n",
      "39757\n",
      "39825\n",
      "39925\n"
     ]
    }
   ],
   "source": [
    "for i in range(len(test_preds)):\n",
    "    if test_preds[i] == 1:\n",
    "        print i"
   ]
  },
  {
   "cell_type": "code",
   "execution_count": 47,
   "metadata": {
    "collapsed": true
   },
   "outputs": [
    {
     "name": "stdout",
     "output_type": "stream",
     "text": [
      "49 0 [ 0.99886441  0.00113557]\n",
      "50 1 [ 0.00157213  0.99842787]\n",
      "51 0 [ 0.99844807  0.00155195]\n",
      "52 0 [ 0.99584401  0.00415598]\n",
      "53 0 [ 0.9986915   0.00130851]\n",
      "54 0 [ 0.99564666  0.00435332]\n",
      "55 0 [  9.99577284e-01   4.22740122e-04]\n",
      "56 0 [ 0.98866737  0.01133262]\n",
      "57 0 [ 0.94350475  0.05649527]\n",
      "58 0 [ 0.9817124   0.01828762]\n",
      "59 0 [  9.99899089e-01   1.00891928e-04]\n",
      "60 0 [ 0.74476761  0.25523239]\n",
      "61 0 [ 0.92397195  0.07602807]\n",
      "62 0 [ 0.99740028  0.00259973]\n",
      "63 0 [ 0.98320091  0.01679911]\n",
      "64 0 [  9.99495268e-01   5.04744763e-04]\n",
      "65 0 [  9.99776959e-01   2.23042196e-04]\n",
      "66 0 [ 0.99886262  0.00113739]\n",
      "67 0 [ 0.9581874  0.0418126]\n",
      "68 0 [ 0.99624389  0.00375611]\n",
      "69 0 [ 0.99716765  0.00283238]\n",
      "70 0 [ 0.97995561  0.02004439]\n",
      "71 0 [ 0.99705768  0.00294234]\n",
      "72 0 [ 0.99567789  0.00432213]\n",
      "73 0 [  9.99906123e-01   9.38890371e-05]\n",
      "74 0 [ 0.99087101  0.00912899]\n",
      "75 0 [  9.99929130e-01   7.08546868e-05]\n",
      "76 0 [  9.99700487e-01   2.99508392e-04]\n",
      "77 0 [ 0.99673051  0.00326947]\n",
      "78 0 [ 0.99476957  0.0052304 ]\n",
      "79 0 [  9.99899924e-01   1.00064863e-04]\n",
      "80 0 [ 0.99746817  0.00253181]\n",
      "81 0 [  9.99590814e-01   4.09198488e-04]\n",
      "82 0 [ 0.99862951  0.0013705 ]\n",
      "83 0 [ 0.997715    0.00228503]\n",
      "84 0 [ 0.99432921  0.00567077]\n",
      "85 0 [  9.99879181e-01   1.20809891e-04]\n",
      "86 0 [ 0.979954    0.02004601]\n",
      "87 0 [  9.99931931e-01   6.80449521e-05]\n",
      "88 1 [ 0.1154111  0.8845889]\n"
     ]
    }
   ],
   "source": [
    "for i in range(49,89):\n",
    "    print i,test_preds[i], test_probabilities[i]"
   ]
  },
  {
   "cell_type": "code",
   "execution_count": 56,
   "metadata": {
    "collapsed": true
   },
   "outputs": [],
   "source": [
    "test_preds=np.zeros(len(test_probabilities))"
   ]
  },
  {
   "cell_type": "code",
   "execution_count": 48,
   "metadata": {
    "collapsed": false
   },
   "outputs": [
    {
     "data": {
      "text/plain": [
       "39947"
      ]
     },
     "execution_count": 48,
     "metadata": {},
     "output_type": "execute_result"
    }
   ],
   "source": [
    "len(test_probabilities)"
   ]
  },
  {
   "cell_type": "code",
   "execution_count": 59,
   "metadata": {
    "collapsed": false
   },
   "outputs": [],
   "source": [
    "for x in range(len(test_probabilities)):\n",
    "    if test_probabilities[x][1] >= 0.40:\n",
    "        test_preds[x] = 1"
   ]
  },
  {
   "cell_type": "code",
   "execution_count": 60,
   "metadata": {
    "collapsed": false
   },
   "outputs": [
    {
     "data": {
      "text/plain": [
       "39947.0"
      ]
     },
     "execution_count": 60,
     "metadata": {},
     "output_type": "execute_result"
    }
   ],
   "source": [
    "sum(test_preds)"
   ]
  },
  {
   "cell_type": "code",
   "execution_count": 61,
   "metadata": {
    "collapsed": true
   },
   "outputs": [],
   "source": [
    "test_preds_frm_model = sklearn_xgb.predict(data=test[features])"
   ]
  },
  {
   "cell_type": "code",
   "execution_count": 62,
   "metadata": {
    "collapsed": false
   },
   "outputs": [
    {
     "data": {
      "text/plain": [
       "390"
      ]
     },
     "execution_count": 62,
     "metadata": {},
     "output_type": "execute_result"
    }
   ],
   "source": [
    "sum(test_preds_frm_model)"
   ]
  },
  {
   "cell_type": "code",
   "execution_count": 63,
   "metadata": {
    "collapsed": true
   },
   "outputs": [],
   "source": [
    "ntest = test.shape[0]"
   ]
  },
  {
   "cell_type": "code",
   "execution_count": 64,
   "metadata": {
    "collapsed": false
   },
   "outputs": [
    {
     "data": {
      "text/plain": [
       "39947"
      ]
     },
     "execution_count": 64,
     "metadata": {},
     "output_type": "execute_result"
    }
   ],
   "source": [
    "ntest"
   ]
  },
  {
   "cell_type": "code",
   "execution_count": 65,
   "metadata": {
    "collapsed": true
   },
   "outputs": [],
   "source": [
    "#so if we use the predict function, we see that it predicts 390 1s\n",
    "#lets use the predicted probabilities and a lower threshold of 0.4 to see if the 1s coverage increases"
   ]
  },
  {
   "cell_type": "code",
   "execution_count": 66,
   "metadata": {
    "collapsed": true
   },
   "outputs": [],
   "source": [
    "test_probabilities = sklearn_xgb.predict_proba(test[features])"
   ]
  },
  {
   "cell_type": "code",
   "execution_count": 67,
   "metadata": {
    "collapsed": false
   },
   "outputs": [
    {
     "data": {
      "text/plain": [
       "array([[ 0.99787593,  0.00212405],\n",
       "       [ 0.9873023 ,  0.01269771],\n",
       "       [ 0.99791175,  0.00208827],\n",
       "       ..., \n",
       "       [ 0.99656504,  0.00343495],\n",
       "       [ 0.96181393,  0.03818606],\n",
       "       [ 0.99758321,  0.00241678]], dtype=float32)"
      ]
     },
     "execution_count": 67,
     "metadata": {},
     "output_type": "execute_result"
    }
   ],
   "source": [
    "test_probabilities"
   ]
  },
  {
   "cell_type": "code",
   "execution_count": 71,
   "metadata": {
    "collapsed": true
   },
   "outputs": [],
   "source": [
    "test_preds_0point4_thres = np.zeros(len(test_probabilities))"
   ]
  },
  {
   "cell_type": "code",
   "execution_count": 73,
   "metadata": {
    "collapsed": false
   },
   "outputs": [
    {
     "data": {
      "text/plain": [
       "(array([ 0.,  0.,  0., ...,  0.,  0.,  0.]), 39947)"
      ]
     },
     "execution_count": 73,
     "metadata": {},
     "output_type": "execute_result"
    }
   ],
   "source": [
    "test_preds_0point4_thres, len(test_preds_0point4_thres)"
   ]
  },
  {
   "cell_type": "code",
   "execution_count": 74,
   "metadata": {
    "collapsed": false
   },
   "outputs": [],
   "source": [
    "#create a new array with the predictions based on lowered threshold\n",
    "for i in range(ntest):\n",
    "    if test_probabilities[i][1] >= 0.4:\n",
    "        test_preds_0point4_thres[i] = 1\n",
    "    else:\n",
    "        test_preds_0point4_thres[i] = 0"
   ]
  },
  {
   "cell_type": "code",
   "execution_count": 75,
   "metadata": {
    "collapsed": false
   },
   "outputs": [
    {
     "data": {
      "text/plain": [
       "440.0"
      ]
     },
     "execution_count": 75,
     "metadata": {},
     "output_type": "execute_result"
    }
   ],
   "source": [
    "sum(test_preds_0point4_thres)"
   ]
  },
  {
   "cell_type": "code",
   "execution_count": 76,
   "metadata": {
    "collapsed": true
   },
   "outputs": [],
   "source": [
    "#the coverage marginally increases to 440 from 397"
   ]
  },
  {
   "cell_type": "code",
   "execution_count": 77,
   "metadata": {
    "collapsed": false
   },
   "outputs": [
    {
     "data": {
      "text/html": [
       "<div>\n",
       "<table border=\"1\" class=\"dataframe\">\n",
       "  <thead>\n",
       "    <tr style=\"text-align: right;\">\n",
       "      <th>Predicted</th>\n",
       "      <th>0.0</th>\n",
       "      <th>1.0</th>\n",
       "      <th>All</th>\n",
       "    </tr>\n",
       "    <tr>\n",
       "      <th>Actual</th>\n",
       "      <th></th>\n",
       "      <th></th>\n",
       "      <th></th>\n",
       "    </tr>\n",
       "  </thead>\n",
       "  <tbody>\n",
       "    <tr>\n",
       "      <th>0.0</th>\n",
       "      <td>7854</td>\n",
       "      <td>86</td>\n",
       "      <td>7940</td>\n",
       "    </tr>\n",
       "    <tr>\n",
       "      <th>1.0</th>\n",
       "      <td>164</td>\n",
       "      <td>1</td>\n",
       "      <td>165</td>\n",
       "    </tr>\n",
       "    <tr>\n",
       "      <th>All</th>\n",
       "      <td>8018</td>\n",
       "      <td>87</td>\n",
       "      <td>8105</td>\n",
       "    </tr>\n",
       "  </tbody>\n",
       "</table>\n",
       "</div>"
      ],
      "text/plain": [
       "Predicted   0.0  1.0   All\n",
       "Actual                    \n",
       "0.0        7854   86  7940\n",
       "1.0         164    1   165\n",
       "All        8018   87  8105"
      ]
     },
     "execution_count": 77,
     "metadata": {},
     "output_type": "execute_result"
    }
   ],
   "source": [
    "pd.crosstab(\n",
    "    pd.Series(test.adopted_Y_N, name='Actual'),\n",
    "    pd.Series(test_preds_0point4_thres, name='Predicted'),\n",
    "    margins=True\n",
    ")"
   ]
  },
  {
   "cell_type": "code",
   "execution_count": 78,
   "metadata": {
    "collapsed": false
   },
   "outputs": [
    {
     "data": {
      "text/plain": [
       "0    39180\n",
       "1      767\n",
       "Name: adopted_Y_N, dtype: int64"
      ]
     },
     "execution_count": 78,
     "metadata": {},
     "output_type": "execute_result"
    }
   ],
   "source": [
    "test.adopted_Y_N.value_counts()"
   ]
  },
  {
   "cell_type": "code",
   "execution_count": 81,
   "metadata": {
    "collapsed": false
   },
   "outputs": [],
   "source": [
    "test.adopted_Y_N = test.adopted_Y_N.values.astype(float)"
   ]
  },
  {
   "cell_type": "code",
   "execution_count": 82,
   "metadata": {
    "collapsed": false
   },
   "outputs": [
    {
     "data": {
      "text/plain": [
       "0.0    39180\n",
       "1.0      767\n",
       "Name: adopted_Y_N, dtype: int64"
      ]
     },
     "execution_count": 82,
     "metadata": {},
     "output_type": "execute_result"
    }
   ],
   "source": [
    "test.adopted_Y_N.value_counts()"
   ]
  },
  {
   "cell_type": "code",
   "execution_count": 83,
   "metadata": {
    "collapsed": false
   },
   "outputs": [
    {
     "data": {
      "text/html": [
       "<div>\n",
       "<table border=\"1\" class=\"dataframe\">\n",
       "  <thead>\n",
       "    <tr style=\"text-align: right;\">\n",
       "      <th>Predicted</th>\n",
       "      <th>0.0</th>\n",
       "      <th>1.0</th>\n",
       "      <th>All</th>\n",
       "    </tr>\n",
       "    <tr>\n",
       "      <th>Actual</th>\n",
       "      <th></th>\n",
       "      <th></th>\n",
       "      <th></th>\n",
       "    </tr>\n",
       "  </thead>\n",
       "  <tbody>\n",
       "    <tr>\n",
       "      <th>0.0</th>\n",
       "      <td>7854</td>\n",
       "      <td>86</td>\n",
       "      <td>7940</td>\n",
       "    </tr>\n",
       "    <tr>\n",
       "      <th>1.0</th>\n",
       "      <td>164</td>\n",
       "      <td>1</td>\n",
       "      <td>165</td>\n",
       "    </tr>\n",
       "    <tr>\n",
       "      <th>All</th>\n",
       "      <td>8018</td>\n",
       "      <td>87</td>\n",
       "      <td>8105</td>\n",
       "    </tr>\n",
       "  </tbody>\n",
       "</table>\n",
       "</div>"
      ],
      "text/plain": [
       "Predicted   0.0  1.0   All\n",
       "Actual                    \n",
       "0.0        7854   86  7940\n",
       "1.0         164    1   165\n",
       "All        8018   87  8105"
      ]
     },
     "execution_count": 83,
     "metadata": {},
     "output_type": "execute_result"
    }
   ],
   "source": [
    "pd.crosstab(\n",
    "    pd.Series(test.adopted_Y_N, name='Actual'),\n",
    "    pd.Series(test_preds_0point4_thres, name='Predicted'),\n",
    "    margins=True\n",
    ")"
   ]
  },
  {
   "cell_type": "code",
   "execution_count": 84,
   "metadata": {
    "collapsed": true
   },
   "outputs": [],
   "source": [
    "#not sure why we are getting only 8105 out of the total of 39947!!"
   ]
  },
  {
   "cell_type": "code",
   "execution_count": 85,
   "metadata": {
    "collapsed": false
   },
   "outputs": [
    {
     "data": {
      "text/plain": [
       "39947"
      ]
     },
     "execution_count": 85,
     "metadata": {},
     "output_type": "execute_result"
    }
   ],
   "source": [
    "len( pd.Series(test_preds_0point4_thres, name='Predicted'))"
   ]
  },
  {
   "cell_type": "code",
   "execution_count": 86,
   "metadata": {
    "collapsed": false
   },
   "outputs": [
    {
     "data": {
      "text/plain": [
       "39947"
      ]
     },
     "execution_count": 86,
     "metadata": {},
     "output_type": "execute_result"
    }
   ],
   "source": [
    "len(pd.Series(test.adopted_Y_N, name='Actual'))"
   ]
  },
  {
   "cell_type": "code",
   "execution_count": 91,
   "metadata": {
    "collapsed": true
   },
   "outputs": [],
   "source": [
    "from sklearn.metrics import confusion_matrix"
   ]
  },
  {
   "cell_type": "code",
   "execution_count": 93,
   "metadata": {
    "collapsed": false
   },
   "outputs": [
    {
     "data": {
      "text/plain": [
       "0.0    39180\n",
       "1.0      767\n",
       "Name: adopted_Y_N, dtype: int64"
      ]
     },
     "execution_count": 93,
     "metadata": {},
     "output_type": "execute_result"
    }
   ],
   "source": [
    "test.adopted_Y_N.value_counts()"
   ]
  },
  {
   "cell_type": "code",
   "execution_count": 92,
   "metadata": {
    "collapsed": false
   },
   "outputs": [
    {
     "data": {
      "text/plain": [
       "array([[39126,    54],\n",
       "       [  381,   386]])"
      ]
     },
     "execution_count": 92,
     "metadata": {},
     "output_type": "execute_result"
    }
   ],
   "source": [
    "confusion_matrix(y_true=test.adopted_Y_N , y_pred=test_preds_0point4_thres)"
   ]
  },
  {
   "cell_type": "code",
   "execution_count": 94,
   "metadata": {
    "collapsed": true
   },
   "outputs": [],
   "source": [
    "#so with a threshold of 0.4, we have classified 386 of the 767 as 1s\n",
    "#also print the other metrics"
   ]
  },
  {
   "cell_type": "code",
   "execution_count": 95,
   "metadata": {
    "collapsed": true
   },
   "outputs": [],
   "source": [
    "from sklearn.metrics import accuracy_score, precision_score, recall_score"
   ]
  },
  {
   "cell_type": "code",
   "execution_count": 99,
   "metadata": {
    "collapsed": false
   },
   "outputs": [
    {
     "name": "stdout",
     "output_type": "stream",
     "text": [
      "accuracy is: 0.989110571507\n",
      "precision is: 0.877272727273\n",
      "recall is: 0.503259452412\n"
     ]
    }
   ],
   "source": [
    "print \"accuracy is: \" + str(accuracy_score(y_true=test.adopted_Y_N , y_pred=test_preds_0point4_thres))\n",
    "print \"precision is: \" + str(precision_score(y_true=test.adopted_Y_N , y_pred=test_preds_0point4_thres))\n",
    "print \"recall is: \" + str(recall_score(y_true=test.adopted_Y_N , y_pred=test_preds_0point4_thres))"
   ]
  },
  {
   "cell_type": "code",
   "execution_count": 100,
   "metadata": {
    "collapsed": true
   },
   "outputs": [],
   "source": [
    "#while accuracy and precision are high, recall is low (50%) which means that we are poor in predicting 1s"
   ]
  },
  {
   "cell_type": "code",
   "execution_count": 101,
   "metadata": {
    "collapsed": true
   },
   "outputs": [],
   "source": [
    "#approach 2: adjust  the scale pos weight "
   ]
  },
  {
   "cell_type": "code",
   "execution_count": 106,
   "metadata": {
    "collapsed": false
   },
   "outputs": [],
   "source": [
    "#get ratio of 0s to 1s\n",
    "ratio = float(np.sum(train.adopted_Y_N == 0)) / np.sum(train.adopted_Y_N == 1)"
   ]
  },
  {
   "cell_type": "code",
   "execution_count": 107,
   "metadata": {
    "collapsed": true
   },
   "outputs": [],
   "source": [
    "sklearn_classfr_params2 = {'learning_rate': 0.1,\n",
    "                          'subsample': 0.8,\n",
    "                          'n_estimators': 1000,\n",
    "                          'seed':0,\n",
    "                          'colsample_bytree': 0.8,\n",
    "                          'objective': 'binary:logistic',\n",
    "                          'max_depth': 3,\n",
    "                          'min_child_weight': 1,\n",
    "                            'scale_pos_weight': ratio #this is the only addition to the first params dict\n",
    "                         }\n"
   ]
  },
  {
   "cell_type": "code",
   "execution_count": 109,
   "metadata": {
    "collapsed": true
   },
   "outputs": [],
   "source": [
    "sklearn_xgb2 = XGBClassifier(**sklearn_classfr_params2)"
   ]
  },
  {
   "cell_type": "code",
   "execution_count": 110,
   "metadata": {
    "collapsed": false
   },
   "outputs": [
    {
     "data": {
      "text/plain": [
       "XGBClassifier(base_score=0.5, colsample_bylevel=1, colsample_bytree=0.8,\n",
       "       gamma=0, learning_rate=0.1, max_delta_step=0, max_depth=3,\n",
       "       min_child_weight=1, missing=None, n_estimators=1000, nthread=-1,\n",
       "       objective='binary:logistic', reg_alpha=0, reg_lambda=1,\n",
       "       scale_pos_weight=50.460869565217394, seed=0, silent=True,\n",
       "       subsample=0.8)"
      ]
     },
     "execution_count": 110,
     "metadata": {},
     "output_type": "execute_result"
    }
   ],
   "source": [
    "sklearn_xgb2"
   ]
  },
  {
   "cell_type": "code",
   "execution_count": 111,
   "metadata": {
    "collapsed": false
   },
   "outputs": [
    {
     "data": {
      "text/plain": [
       "XGBClassifier(base_score=0.5, colsample_bylevel=1, colsample_bytree=0.8,\n",
       "       gamma=0, learning_rate=0.1, max_delta_step=0, max_depth=3,\n",
       "       min_child_weight=1, missing=None, n_estimators=1000, nthread=-1,\n",
       "       objective='binary:logistic', reg_alpha=0, reg_lambda=1,\n",
       "       scale_pos_weight=50.460869565217394, seed=0, silent=True,\n",
       "       subsample=0.8)"
      ]
     },
     "execution_count": 111,
     "metadata": {},
     "output_type": "execute_result"
    }
   ],
   "source": [
    "sklearn_xgb2.fit(train[features], y_train)"
   ]
  },
  {
   "cell_type": "code",
   "execution_count": 112,
   "metadata": {
    "collapsed": true
   },
   "outputs": [],
   "source": [
    "test_preds2 = sklearn_xgb2.predict(test[features])"
   ]
  },
  {
   "cell_type": "code",
   "execution_count": 113,
   "metadata": {
    "collapsed": false
   },
   "outputs": [
    {
     "data": {
      "text/plain": [
       "1975"
      ]
     },
     "execution_count": 113,
     "metadata": {},
     "output_type": "execute_result"
    }
   ],
   "source": [
    "sum(test_preds2)"
   ]
  },
  {
   "cell_type": "code",
   "execution_count": 114,
   "metadata": {
    "collapsed": true
   },
   "outputs": [],
   "source": [
    "#we see a clear improvement in the number of 1s without changing the thres itself\n",
    "#now change the thres and see the new preds"
   ]
  },
  {
   "cell_type": "code",
   "execution_count": 115,
   "metadata": {
    "collapsed": true
   },
   "outputs": [],
   "source": [
    "test_probs2 = sklearn_xgb2.predict_proba(test[features])"
   ]
  },
  {
   "cell_type": "code",
   "execution_count": 116,
   "metadata": {
    "collapsed": true
   },
   "outputs": [],
   "source": [
    "test_preds2_0point4_thres = np.zeros(len(test_probs2))"
   ]
  },
  {
   "cell_type": "code",
   "execution_count": 117,
   "metadata": {
    "collapsed": true
   },
   "outputs": [],
   "source": [
    "#create a new array with the predictions based on lowered threshold\n",
    "for i in range(ntest):\n",
    "    if test_probs2[i][1] >= 0.4:\n",
    "        test_preds2_0point4_thres[i] = 1\n",
    "    else:\n",
    "        test_preds2_0point4_thres[i] = 0"
   ]
  },
  {
   "cell_type": "code",
   "execution_count": 118,
   "metadata": {
    "collapsed": false
   },
   "outputs": [
    {
     "data": {
      "text/plain": [
       "2646.0"
      ]
     },
     "execution_count": 118,
     "metadata": {},
     "output_type": "execute_result"
    }
   ],
   "source": [
    "sum(test_preds2_0point4_thres)"
   ]
  },
  {
   "cell_type": "code",
   "execution_count": 119,
   "metadata": {
    "collapsed": true
   },
   "outputs": [],
   "source": [
    "#a significant improvement in 1s to 2646 from 1975"
   ]
  },
  {
   "cell_type": "code",
   "execution_count": 120,
   "metadata": {
    "collapsed": false
   },
   "outputs": [
    {
     "data": {
      "text/plain": [
       "array([[37158,  2022],\n",
       "       [  143,   624]])"
      ]
     },
     "execution_count": 120,
     "metadata": {},
     "output_type": "execute_result"
    }
   ],
   "source": [
    "confusion_matrix(y_true=test.adopted_Y_N , y_pred=test_preds2_0point4_thres)"
   ]
  },
  {
   "cell_type": "code",
   "execution_count": 121,
   "metadata": {
    "collapsed": true
   },
   "outputs": [],
   "source": [
    "#we see a significant improvement in the prediction of 1s but \n",
    "#that comes at the cost of more 0s predicted (inaccurately) as 1"
   ]
  },
  {
   "cell_type": "code",
   "execution_count": 122,
   "metadata": {
    "collapsed": false
   },
   "outputs": [
    {
     "name": "stdout",
     "output_type": "stream",
     "text": [
      "accuracy is: 0.945803189226\n",
      "precision is: 0.235827664399\n",
      "recall is: 0.813559322034\n"
     ]
    }
   ],
   "source": [
    "print \"accuracy is: \" + str(accuracy_score(y_true=test.adopted_Y_N , y_pred=test_preds2_0point4_thres))\n",
    "print \"precision is: \" + str(precision_score(y_true=test.adopted_Y_N , y_pred=test_preds2_0point4_thres))\n",
    "print \"recall is: \" + str(recall_score(y_true=test.adopted_Y_N , y_pred=test_preds2_0point4_thres))"
   ]
  },
  {
   "cell_type": "code",
   "execution_count": 123,
   "metadata": {
    "collapsed": true
   },
   "outputs": [],
   "source": [
    "#same point proven by the above metrics, recall has increased at the cost of preicision"
   ]
  },
  {
   "cell_type": "code",
   "execution_count": 124,
   "metadata": {
    "collapsed": true
   },
   "outputs": [],
   "source": [
    "#approach 3: adjust the weight parameter, sample weight (??) in the sklearn version"
   ]
  },
  {
   "cell_type": "code",
   "execution_count": 125,
   "metadata": {
    "collapsed": true
   },
   "outputs": [],
   "source": [
    "sklearn_xgb3 = XGBClassifier(**sklearn_classfr_params2)"
   ]
  },
  {
   "cell_type": "code",
   "execution_count": 126,
   "metadata": {
    "collapsed": false
   },
   "outputs": [
    {
     "name": "stderr",
     "output_type": "stream",
     "text": [
      "C:\\Users\\shenbaga.kumar\\AppData\\Local\\Continuum\\Anaconda2\\lib\\site-packages\\ipykernel\\__main__.py:3: FutureWarning: in the future, boolean array-likes will be handled as a boolean array index\n",
      "  app.launch_new_instance()\n",
      "C:\\Users\\shenbaga.kumar\\AppData\\Local\\Continuum\\Anaconda2\\lib\\site-packages\\ipykernel\\__main__.py:4: FutureWarning: in the future, boolean array-likes will be handled as a boolean array index\n"
     ]
    }
   ],
   "source": [
    "#weights based on the 1s and 0s\n",
    "weights = np.zeros(len(y_train))\n",
    "weights[y_train == 0] = 1\n",
    "weights[y_train == 1] = 5"
   ]
  },
  {
   "cell_type": "code",
   "execution_count": 127,
   "metadata": {
    "collapsed": false
   },
   "outputs": [
    {
     "data": {
      "text/plain": [
       "array([ 5.,  5.,  0., ...,  0.,  0.,  0.])"
      ]
     },
     "execution_count": 127,
     "metadata": {},
     "output_type": "execute_result"
    }
   ],
   "source": [
    "weights"
   ]
  },
  {
   "cell_type": "code",
   "execution_count": 128,
   "metadata": {
    "collapsed": false
   },
   "outputs": [
    {
     "data": {
      "text/plain": [
       "XGBClassifier(base_score=0.5, colsample_bylevel=1, colsample_bytree=0.8,\n",
       "       gamma=0, learning_rate=0.1, max_delta_step=0, max_depth=3,\n",
       "       min_child_weight=1, missing=None, n_estimators=1000, nthread=-1,\n",
       "       objective='binary:logistic', reg_alpha=0, reg_lambda=1,\n",
       "       scale_pos_weight=50.460869565217394, seed=0, silent=True,\n",
       "       subsample=0.8)"
      ]
     },
     "execution_count": 128,
     "metadata": {},
     "output_type": "execute_result"
    }
   ],
   "source": [
    "sklearn_xgb3.fit(X=train[features], y=y_train,sample_weight=weights)"
   ]
  },
  {
   "cell_type": "code",
   "execution_count": 129,
   "metadata": {
    "collapsed": true
   },
   "outputs": [],
   "source": [
    "test_preds3 = sklearn_xgb3.predict(test[features])"
   ]
  },
  {
   "cell_type": "code",
   "execution_count": 130,
   "metadata": {
    "collapsed": false
   },
   "outputs": [
    {
     "data": {
      "text/plain": [
       "0"
      ]
     },
     "execution_count": 130,
     "metadata": {},
     "output_type": "execute_result"
    }
   ],
   "source": [
    "sum(test_preds3)"
   ]
  },
  {
   "cell_type": "code",
   "execution_count": 132,
   "metadata": {
    "collapsed": true
   },
   "outputs": [],
   "source": [
    "#something is off"
   ]
  },
  {
   "cell_type": "code",
   "execution_count": 133,
   "metadata": {
    "collapsed": false
   },
   "outputs": [
    {
     "data": {
      "text/plain": [
       "0"
      ]
     },
     "execution_count": 133,
     "metadata": {},
     "output_type": "execute_result"
    }
   ],
   "source": [
    "sum(sklearn_xgb3.predict(train[features]))"
   ]
  },
  {
   "cell_type": "code",
   "execution_count": 135,
   "metadata": {
    "collapsed": true
   },
   "outputs": [],
   "source": [
    "#try the weights using the native API\n",
    "#first prepare the DMatrix\n",
    "dtrain = xgb.DMatrix(train[features], label=y_train, weight=weights)\n",
    "dtest = xgb.DMatrix(test[features])"
   ]
  },
  {
   "cell_type": "code",
   "execution_count": 136,
   "metadata": {
    "collapsed": true
   },
   "outputs": [],
   "source": [
    "#define params for the model:\n",
    "native_params = {'eta': 0.1,\n",
    "                  'subsample': 0.8,\n",
    "                  'n_estimators': 1000,\n",
    "                  'seed':0,\n",
    "                  'colsample_bytree': 0.8,\n",
    "                  'objective': 'binary:logistic',\n",
    "                  'max_depth': 3,\n",
    "                  'min_child_weight': 1}"
   ]
  },
  {
   "cell_type": "code",
   "execution_count": 137,
   "metadata": {
    "collapsed": true
   },
   "outputs": [],
   "source": [
    "xgb_native_model = xgb.train(params=native_params, dtrain=dtrain,num_boost_round=15)"
   ]
  },
  {
   "cell_type": "code",
   "execution_count": 138,
   "metadata": {
    "collapsed": true
   },
   "outputs": [],
   "source": [
    "test_preds_xgb_native = xgb_native_model.predict(dtest)"
   ]
  },
  {
   "cell_type": "code",
   "execution_count": 139,
   "metadata": {
    "collapsed": false
   },
   "outputs": [
    {
     "data": {
      "text/plain": [
       "array([ 0.21516816,  0.21516816,  0.21516816, ...,  0.21516816,\n",
       "        0.21516816,  0.21516816], dtype=float32)"
      ]
     },
     "execution_count": 139,
     "metadata": {},
     "output_type": "execute_result"
    }
   ],
   "source": [
    "test_preds_xgb_native"
   ]
  },
  {
   "cell_type": "code",
   "execution_count": 140,
   "metadata": {
    "collapsed": true
   },
   "outputs": [],
   "source": [
    "test_preds_0_1xgb_native = (test_preds_xgb_native > 0.4).astype(int)"
   ]
  },
  {
   "cell_type": "code",
   "execution_count": 141,
   "metadata": {
    "collapsed": false
   },
   "outputs": [
    {
     "data": {
      "text/plain": [
       "array([0, 0, 0, ..., 0, 0, 0])"
      ]
     },
     "execution_count": 141,
     "metadata": {},
     "output_type": "execute_result"
    }
   ],
   "source": [
    "test_preds_0_1xgb_native"
   ]
  },
  {
   "cell_type": "code",
   "execution_count": 142,
   "metadata": {
    "collapsed": false
   },
   "outputs": [
    {
     "data": {
      "text/plain": [
       "0"
      ]
     },
     "execution_count": 142,
     "metadata": {},
     "output_type": "execute_result"
    }
   ],
   "source": [
    "sum(test_preds_0_1xgb_native)"
   ]
  },
  {
   "cell_type": "code",
   "execution_count": 143,
   "metadata": {
    "collapsed": true
   },
   "outputs": [],
   "source": [
    "#same result as the sklearn model, so weights is not working "
   ]
  },
  {
   "cell_type": "code",
   "execution_count": 144,
   "metadata": {
    "collapsed": false
   },
   "outputs": [
    {
     "data": {
      "text/plain": [
       "<bound method XGBClassifier.get_params of XGBClassifier(base_score=0.5, colsample_bylevel=1, colsample_bytree=0.8,\n",
       "       gamma=0, learning_rate=0.1, max_delta_step=0, max_depth=3,\n",
       "       min_child_weight=1, missing=None, n_estimators=1000, nthread=-1,\n",
       "       objective='binary:logistic', reg_alpha=0, reg_lambda=1,\n",
       "       scale_pos_weight=50.460869565217394, seed=0, silent=True,\n",
       "       subsample=0.8)>"
      ]
     },
     "execution_count": 144,
     "metadata": {},
     "output_type": "execute_result"
    }
   ],
   "source": [
    "sklearn_xgb3.get_params"
   ]
  },
  {
   "cell_type": "code",
   "execution_count": 154,
   "metadata": {
    "collapsed": true
   },
   "outputs": [],
   "source": [
    "#how to get AUC as the eval metric for xgb\n",
    "sklearn_classfr_params4 = {'learning_rate': 0.1,\n",
    "                          'subsample': 0.8,\n",
    "                          'n_estimators': 1000,\n",
    "                          'seed':0,\n",
    "                          'colsample_bytree': 0.8,\n",
    "                          'objective': 'binary:logistic',\n",
    "                          'max_depth': 3,\n",
    "                          'min_child_weight': 1,\n",
    "                          'scale_pos_weight': ratio, #this is the only addition to the first params dict\n",
    "                          # 'objective': 'auc' #added for this param; not sure if this corresponds to the eval metric\n",
    "                           #objective is not the param; it throws errors\n",
    "                         }"
   ]
  },
  {
   "cell_type": "code",
   "execution_count": 156,
   "metadata": {
    "collapsed": true
   },
   "outputs": [],
   "source": [
    "sklearn_xgb4 = XGBClassifier(**sklearn_classfr_params4)"
   ]
  },
  {
   "cell_type": "code",
   "execution_count": 157,
   "metadata": {
    "collapsed": false
   },
   "outputs": [
    {
     "data": {
      "text/plain": [
       "XGBClassifier(base_score=0.5, colsample_bylevel=1, colsample_bytree=0.8,\n",
       "       gamma=0, learning_rate=0.1, max_delta_step=0, max_depth=3,\n",
       "       min_child_weight=1, missing=None, n_estimators=1000, nthread=-1,\n",
       "       objective='binary:logistic', reg_alpha=0, reg_lambda=1,\n",
       "       scale_pos_weight=50.460869565217394, seed=0, silent=True,\n",
       "       subsample=0.8)"
      ]
     },
     "execution_count": 157,
     "metadata": {},
     "output_type": "execute_result"
    }
   ],
   "source": [
    "sklearn_xgb4.fit(train[features], y_train, eval_metric='auc')"
   ]
  },
  {
   "cell_type": "code",
   "execution_count": 158,
   "metadata": {
    "collapsed": true
   },
   "outputs": [],
   "source": [
    "test_probs4 = sklearn_xgb4.predict_proba(test[features])"
   ]
  },
  {
   "cell_type": "code",
   "execution_count": 159,
   "metadata": {
    "collapsed": true
   },
   "outputs": [],
   "source": [
    "test_preds4 = np.zeros(test.shape[0])"
   ]
  },
  {
   "cell_type": "code",
   "execution_count": 160,
   "metadata": {
    "collapsed": true
   },
   "outputs": [],
   "source": [
    "#create a new array with the predictions based on lowered threshold\n",
    "for i in range(ntest):\n",
    "    if test_probs4[i][1] >= 0.4:\n",
    "        test_preds4[i] = 1\n",
    "    else:\n",
    "        test_preds4[i] = 0"
   ]
  },
  {
   "cell_type": "code",
   "execution_count": 161,
   "metadata": {
    "collapsed": false
   },
   "outputs": [
    {
     "data": {
      "text/plain": [
       "2646.0"
      ]
     },
     "execution_count": 161,
     "metadata": {},
     "output_type": "execute_result"
    }
   ],
   "source": [
    "sum(test_preds4)"
   ]
  },
  {
   "cell_type": "code",
   "execution_count": 162,
   "metadata": {
    "collapsed": true
   },
   "outputs": [],
   "source": [
    "#same as the earlier model, meaning that auc was actually the eval metric earlier as well (without us explicitly stating it)"
   ]
  },
  {
   "cell_type": "markdown",
   "metadata": {},
   "source": [
    "#21 Dec 2016: we stop now:\n",
    "\n",
    "\n",
    "Learnings:\n",
    "\n",
    "1. Use XGB for the classifier data\n",
    "2. data is imbalanced, so tried a few techniques to adjust for that in xgb\n",
    "3. setting scale pos weight to the ratio of 0s to 1s provided the best results for recall, i.e. predicting 1s\n",
    "4. adjusting the weights param was not successful, could not figure out why"
   ]
  },
  {
   "cell_type": "code",
   "execution_count": null,
   "metadata": {
    "collapsed": true
   },
   "outputs": [],
   "source": []
  }
 ],
 "metadata": {
  "anaconda-cloud": {},
  "kernelspec": {
   "display_name": "Python [conda root]",
   "language": "python",
   "name": "conda-root-py"
  },
  "language_info": {
   "codemirror_mode": {
    "name": "ipython",
    "version": 2
   },
   "file_extension": ".py",
   "mimetype": "text/x-python",
   "name": "python",
   "nbconvert_exporter": "python",
   "pygments_lexer": "ipython2",
   "version": "2.7.12"
  }
 },
 "nbformat": 4,
 "nbformat_minor": 1
}
